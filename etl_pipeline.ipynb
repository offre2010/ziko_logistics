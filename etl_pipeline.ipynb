{
 "cells": [
  {
   "cell_type": "code",
   "execution_count": 2,
   "metadata": {},
   "outputs": [],
   "source": [
    "# ImportNecessary Libraries\n",
    "import pandas as pd"
   ]
  },
  {
   "cell_type": "code",
   "execution_count": 4,
   "metadata": {},
   "outputs": [],
   "source": [
    "#Extraction Layer\n",
    "ziko_df = pd.read_csv(r'ziko_logistics_data.csv')"
   ]
  },
  {
   "cell_type": "code",
   "execution_count": 5,
   "metadata": {},
   "outputs": [
    {
     "data": {
      "text/plain": [
       "<bound method NDFrame.head of       Transaction_ID                 Date  Customer_ID  Product_ID  Quantity  \\\n",
       "0                200  2020-01-01 20:32:26         1086         536         3   \n",
       "1                321  2020-01-02 06:55:08         1078         523         6   \n",
       "2                989  2020-01-06 08:12:58         1077         535         3   \n",
       "3                682  2020-01-07 22:03:15         1027         546         6   \n",
       "4                484  2020-01-07 07:08:06         1052         556         8   \n",
       "...              ...                  ...          ...         ...       ...   \n",
       "1000             250  2020-01-05 02:22:42         1095         533         5   \n",
       "1001             412  2020-01-07 11:27:34         1008         542         9   \n",
       "1002             816  2020-01-06 02:48:39         1060         511         6   \n",
       "1003             702  2020-01-09 08:38:55         1054         504         6   \n",
       "1004               4  2020-01-03 10:22:42         1018         545         2   \n",
       "\n",
       "      Unit_Price   Total_Cost  Discount_Rate Sales_Channel Order_Priority  \\\n",
       "0     120.436821  8265.374549           0.20        Online           High   \n",
       "1     475.724994  4047.850479            NaN      Reseller       Critical   \n",
       "2     146.400556          NaN           0.05        Direct       Critical   \n",
       "3      19.373194  8194.281993            NaN      Reseller         Medium   \n",
       "4     193.221313  8331.329249           0.20        Direct            Low   \n",
       "...          ...          ...            ...           ...            ...   \n",
       "1000  490.760429  1138.724711            NaN      Reseller         Medium   \n",
       "1001  236.240911  1786.865600           0.10        Online         Medium   \n",
       "1002         NaN  6443.682500           0.20       Partner         Medium   \n",
       "1003         NaN  4814.744796            NaN        Online         Medium   \n",
       "1004  248.937627  1971.790456           0.20        Direct            Low   \n",
       "\n",
       "      ...  Return_Reason   Payment_Type Taxable Region  Country Customer_Name  \\\n",
       "0     ...     Wrong Item  Wire Transfer   False   West   Canada  Customer 200   \n",
       "1     ...        Damaged         PayPal    True  South   Mexico  Customer 321   \n",
       "2     ...        Damaged         PayPal    True   West   Canada  Customer 989   \n",
       "3     ...     Wrong Item           Cash    True  South   Canada  Customer 682   \n",
       "4     ...           Late           Cash   False  South   Mexico  Customer 484   \n",
       "...   ...            ...            ...     ...    ...      ...           ...   \n",
       "1000  ...        Damaged    Credit Card    True  South   Canada  Customer 250   \n",
       "1001  ...  Not Specified           Cash    True  South      USA  Customer 412   \n",
       "1002  ...  Not Specified           Cash   False   West   Mexico  Customer 816   \n",
       "1003  ...        Damaged           Cash    True   West   Canada  Customer 702   \n",
       "1004  ...  Not Specified           Cash    True   East   Canada    Customer 4   \n",
       "\n",
       "       Customer_Phone               Customer_Email  \\\n",
       "0     +1-652-572-9306  customer.200.78@example.com   \n",
       "1     +1-311-186-5760   customer.321.13@sample.com   \n",
       "2     +1-922-606-9032  customer.989.99@example.com   \n",
       "3     +1-237-853-5808     customer.682.66@demo.com   \n",
       "4     +1-986-360-9109    customer.484.3@sample.com   \n",
       "...               ...                          ...   \n",
       "1000  +1-875-504-2878   customer.250.26@sample.com   \n",
       "1001  +1-645-470-5077   customer.412.80@sample.com   \n",
       "1002  +1-162-396-1771   customer.816.55@sample.com   \n",
       "1003  +1-130-713-1098   customer.702.30@sample.com   \n",
       "1004  +1-756-713-6966     customer.4.99@sample.com   \n",
       "\n",
       "                     Customer_Address Product_List_Title  \n",
       "0         275 Second St, Phoenix, USA         Product 53  \n",
       "1         478 Third St, New York, USA         Product 33  \n",
       "2         843 Second St, Phoenix, USA          Product 6  \n",
       "3           153 Main St, Phoenix, USA         Product 68  \n",
       "4        264 Second St, New York, USA         Product 89  \n",
       "...                               ...                ...  \n",
       "1000        664 Main St, Chicago, USA         Product 16  \n",
       "1001       699 Third St, Houston, USA         Product 38  \n",
       "1002  453 Fourth St, Los Angeles, USA         Product 48  \n",
       "1003      438 Fourth St, Houston, USA         Product 38  \n",
       "1004       383 Park Ave, Houston, USA         Product 16  \n",
       "\n",
       "[1005 rows x 25 columns]>"
      ]
     },
     "execution_count": 5,
     "metadata": {},
     "output_type": "execute_result"
    }
   ],
   "source": [
    "ziko_df.head"
   ]
  },
  {
   "cell_type": "code",
   "execution_count": 7,
   "metadata": {},
   "outputs": [
    {
     "name": "stdout",
     "output_type": "stream",
     "text": [
      "      Transaction_ID                 Date  Customer_ID  Product_ID  Quantity  \\\n",
      "0                200  2020-01-01 20:32:26         1086         536         3   \n",
      "1                321  2020-01-02 06:55:08         1078         523         6   \n",
      "2                989  2020-01-06 08:12:58         1077         535         3   \n",
      "3                682  2020-01-07 22:03:15         1027         546         6   \n",
      "4                484  2020-01-07 07:08:06         1052         556         8   \n",
      "...              ...                  ...          ...         ...       ...   \n",
      "1000             250  2020-01-05 02:22:42         1095         533         5   \n",
      "1001             412  2020-01-07 11:27:34         1008         542         9   \n",
      "1002             816  2020-01-06 02:48:39         1060         511         6   \n",
      "1003             702  2020-01-09 08:38:55         1054         504         6   \n",
      "1004               4  2020-01-03 10:22:42         1018         545         2   \n",
      "\n",
      "      Unit_Price   Total_Cost  Discount_Rate Sales_Channel Order_Priority  \\\n",
      "0     120.436821  8265.374549           0.20        Online           High   \n",
      "1     475.724994  4047.850479            NaN      Reseller       Critical   \n",
      "2     146.400556          NaN           0.05        Direct       Critical   \n",
      "3      19.373194  8194.281993            NaN      Reseller         Medium   \n",
      "4     193.221313  8331.329249           0.20        Direct            Low   \n",
      "...          ...          ...            ...           ...            ...   \n",
      "1000  490.760429  1138.724711            NaN      Reseller         Medium   \n",
      "1001  236.240911  1786.865600           0.10        Online         Medium   \n",
      "1002         NaN  6443.682500           0.20       Partner         Medium   \n",
      "1003         NaN  4814.744796            NaN        Online         Medium   \n",
      "1004  248.937627  1971.790456           0.20        Direct            Low   \n",
      "\n",
      "      ...  Return_Reason   Payment_Type Taxable Region  Country Customer_Name  \\\n",
      "0     ...     Wrong Item  Wire Transfer   False   West   Canada  Customer 200   \n",
      "1     ...        Damaged         PayPal    True  South   Mexico  Customer 321   \n",
      "2     ...        Damaged         PayPal    True   West   Canada  Customer 989   \n",
      "3     ...     Wrong Item           Cash    True  South   Canada  Customer 682   \n",
      "4     ...           Late           Cash   False  South   Mexico  Customer 484   \n",
      "...   ...            ...            ...     ...    ...      ...           ...   \n",
      "1000  ...        Damaged    Credit Card    True  South   Canada  Customer 250   \n",
      "1001  ...  Not Specified           Cash    True  South      USA  Customer 412   \n",
      "1002  ...  Not Specified           Cash   False   West   Mexico  Customer 816   \n",
      "1003  ...        Damaged           Cash    True   West   Canada  Customer 702   \n",
      "1004  ...  Not Specified           Cash    True   East   Canada    Customer 4   \n",
      "\n",
      "       Customer_Phone               Customer_Email  \\\n",
      "0     +1-652-572-9306  customer.200.78@example.com   \n",
      "1     +1-311-186-5760   customer.321.13@sample.com   \n",
      "2     +1-922-606-9032  customer.989.99@example.com   \n",
      "3     +1-237-853-5808     customer.682.66@demo.com   \n",
      "4     +1-986-360-9109    customer.484.3@sample.com   \n",
      "...               ...                          ...   \n",
      "1000  +1-875-504-2878   customer.250.26@sample.com   \n",
      "1001  +1-645-470-5077   customer.412.80@sample.com   \n",
      "1002  +1-162-396-1771   customer.816.55@sample.com   \n",
      "1003  +1-130-713-1098   customer.702.30@sample.com   \n",
      "1004  +1-756-713-6966     customer.4.99@sample.com   \n",
      "\n",
      "                     Customer_Address Product_List_Title  \n",
      "0         275 Second St, Phoenix, USA         Product 53  \n",
      "1         478 Third St, New York, USA         Product 33  \n",
      "2         843 Second St, Phoenix, USA          Product 6  \n",
      "3           153 Main St, Phoenix, USA         Product 68  \n",
      "4        264 Second St, New York, USA         Product 89  \n",
      "...                               ...                ...  \n",
      "1000        664 Main St, Chicago, USA         Product 16  \n",
      "1001       699 Third St, Houston, USA         Product 38  \n",
      "1002  453 Fourth St, Los Angeles, USA         Product 48  \n",
      "1003      438 Fourth St, Houston, USA         Product 38  \n",
      "1004       383 Park Ave, Houston, USA         Product 16  \n",
      "\n",
      "[1005 rows x 25 columns]\n"
     ]
    }
   ],
   "source": [
    "print(ziko_df.infer_objects())"
   ]
  },
  {
   "cell_type": "code",
   "execution_count": 8,
   "metadata": {},
   "outputs": [
    {
     "data": {
      "text/plain": [
       "Index(['Transaction_ID', 'Date', 'Customer_ID', 'Product_ID', 'Quantity',\n",
       "       'Unit_Price', 'Total_Cost', 'Discount_Rate', 'Sales_Channel',\n",
       "       'Order_Priority', 'Warehouse_Code', 'Ship_Mode', 'Delivery_Status',\n",
       "       'Customer_Satisfaction', 'Item_Returned', 'Return_Reason',\n",
       "       'Payment_Type', 'Taxable', 'Region', 'Country', 'Customer_Name',\n",
       "       'Customer_Phone', 'Customer_Email', 'Customer_Address',\n",
       "       'Product_List_Title'],\n",
       "      dtype='object')"
      ]
     },
     "execution_count": 8,
     "metadata": {},
     "output_type": "execute_result"
    }
   ],
   "source": [
    "ziko_df.columns"
   ]
  },
  {
   "cell_type": "code",
   "execution_count": null,
   "metadata": {},
   "outputs": [],
   "source": []
  }
 ],
 "metadata": {
  "kernelspec": {
   "display_name": "Python (myenv)",
   "language": "python",
   "name": "myenv"
  },
  "language_info": {
   "codemirror_mode": {
    "name": "ipython",
    "version": 3
   },
   "file_extension": ".py",
   "mimetype": "text/x-python",
   "name": "python",
   "nbconvert_exporter": "python",
   "pygments_lexer": "ipython3",
   "version": "3.11.7"
  }
 },
 "nbformat": 4,
 "nbformat_minor": 2
}
